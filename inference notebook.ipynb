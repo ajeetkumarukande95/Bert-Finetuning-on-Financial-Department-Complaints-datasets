{
 "cells": [
  {
   "cell_type": "markdown",
   "metadata": {
    "id": "mv_ox2OLmfVN"
   },
   "source": [
    "##Dataset loading"
   ]
  },
  {
   "cell_type": "code",
   "execution_count": null,
   "metadata": {
    "id": "uWzmzzcRmeju"
   },
   "outputs": [],
   "source": [
    "import numpy as np\n",
    "import pandas as pd"
   ]
  },
  {
   "cell_type": "code",
   "execution_count": null,
   "metadata": {
    "id": "w134yfyFmemE"
   },
   "outputs": [],
   "source": [
    "df = pd.read_csv(\"/content/drive/MyDrive/complaints.csv\")"
   ]
  },
  {
   "cell_type": "code",
   "execution_count": null,
   "metadata": {
    "id": "_xg0c2gmmen1"
   },
   "outputs": [],
   "source": [
    "df = df[[\"Product\", \"Consumer complaint narrative\"]]"
   ]
  },
  {
   "cell_type": "code",
   "execution_count": null,
   "metadata": {
    "id": "o7pq2YZnmqTr"
   },
   "outputs": [],
   "source": [
    "df = df.dropna()"
   ]
  },
  {
   "cell_type": "code",
   "execution_count": null,
   "metadata": {
    "id": "pHVuuihQmqWC"
   },
   "outputs": [],
   "source": [
    "class_dict =  {\n",
    "\n",
    "'Vehicle loan or lease' : 'loan',\n",
    "'Credit reporting, credit repair services, or other personal consumer reports' : 'credit_report',\n",
    "'Credit card or prepaid card' : 'card' ,\n",
    "'Money transfer, virtual currency, or money service' : 'money_transfer',\n",
    "'Mortgage' : 'Mortgage',\n",
    "'Payday loan, title loan, or personal loan' : 'loan' ,\n",
    "'Debt collection' : 'Debt collection',\n",
    "'Checking or savings account' : 'account',\n",
    "'Student loan' : 'loan',\n",
    "'Consumer Loan' : 'loan',\n",
    "'Money transfers' : 'money_transfer',\n",
    "'Credit card' : 'card',\n",
    "'Bank account or service' : 'account',\n",
    "'Credit reporting' : 'credit_report',\n",
    "'Prepaid card' : 'card',\n",
    "'Payday loan' : 'loan',\n",
    "'Other financial service' : 'credit_report',\n",
    "'Virtual currency' : 'money_transfer'\n",
    "}"
   ]
  },
  {
   "cell_type": "code",
   "execution_count": null,
   "metadata": {
    "id": "1Tv8IyfwmqYT"
   },
   "outputs": [],
   "source": [
    "df.replace({'Product': class_dict}, inplace=True)"
   ]
  },
  {
   "cell_type": "code",
   "execution_count": null,
   "metadata": {
    "colab": {
     "base_uri": "https://localhost:8080/"
    },
    "id": "Y_M32fFkmqbE",
    "outputId": "9648d155-1e71-4b44-fe2e-1bca4644f464"
   },
   "outputs": [
    {
     "name": "stderr",
     "output_type": "stream",
     "text": [
      "<ipython-input-12-57337da2bbd5>:6: FutureWarning: The frame.append method is deprecated and will be removed from pandas in a future version. Use pandas.concat instead.\n",
      "  sampled_df = sampled_df.append(sample, ignore_index=True)\n"
     ]
    }
   ],
   "source": [
    "sampled_df = pd.DataFrame()\n",
    "\n",
    "for col in df['Product'].unique():\n",
    "  sample = df[df['Product'] == col].sample(1000)\n",
    "\n",
    "  sampled_df = sampled_df.append(sample, ignore_index=True)\n",
    "  # print(col)"
   ]
  },
  {
   "cell_type": "code",
   "execution_count": null,
   "metadata": {
    "id": "Ljof23yEmqew"
   },
   "outputs": [],
   "source": [
    "import re"
   ]
  },
  {
   "cell_type": "code",
   "execution_count": null,
   "metadata": {
    "id": "D3qifNSrm7Ox"
   },
   "outputs": [],
   "source": [
    "def text_cleaning(text):\n",
    "  text = text.lower()   #lower case\n",
    "\n",
    "  text = re.sub(r'[^\\w\\s]', '', text)  #removing punct\n",
    "\n",
    "  text = re.sub(r'[0-9]', '', text)   #removing digits\n",
    "\n",
    "  text = re.sub(r'[x]{2,}', '', text) # removing more than 2 occurance of X\n",
    "\n",
    "  return text"
   ]
  },
  {
   "cell_type": "code",
   "execution_count": null,
   "metadata": {
    "id": "RHf_0MKrmerV"
   },
   "outputs": [],
   "source": [
    "sampled_df['Consumer complaint narrative'] = sampled_df['Consumer complaint narrative'].apply(text_cleaning)"
   ]
  },
  {
   "cell_type": "code",
   "execution_count": null,
   "metadata": {
    "id": "xnPSPsnhm_mU"
   },
   "outputs": [],
   "source": [
    "classes = {'loan' : 0,\n",
    "           'credit_report' :1,\n",
    "           'card': 2,\n",
    "           'money_transfer' : 3,\n",
    "           'Mortgage' : 4,\n",
    "           'Debt collection' : 5,\n",
    "           'account' : 6\n",
    "          }\n",
    "\n",
    "sampled_df.replace({'Product' : classes}, inplace=True)"
   ]
  },
  {
   "cell_type": "code",
   "execution_count": null,
   "metadata": {
    "id": "Z74WZVKmm_oi"
   },
   "outputs": [],
   "source": [
    "sampled_df.columns = ['label', 'text']"
   ]
  },
  {
   "cell_type": "code",
   "execution_count": null,
   "metadata": {
    "id": "ZKPKVdEOm_qg"
   },
   "outputs": [],
   "source": [
    "sampled_df.to_csv(\"complaint_dataset.csv\", index=False)"
   ]
  },
  {
   "cell_type": "code",
   "execution_count": null,
   "metadata": {
    "colab": {
     "base_uri": "https://localhost:8080/"
    },
    "id": "ViqPRTEem_ue",
    "outputId": "4c0217fc-5b75-4b5e-c2da-2b9504d2f452"
   },
   "outputs": [
    {
     "name": "stdout",
     "output_type": "stream",
     "text": [
      "Collecting datasets\n",
      "  Downloading datasets-2.18.0-py3-none-any.whl (510 kB)\n",
      "\u001b[2K     \u001b[90m━━━━━━━━━━━━━━━━━━━━━━━━━━━━━━━━━━━━━━━━\u001b[0m \u001b[32m510.5/510.5 kB\u001b[0m \u001b[31m4.4 MB/s\u001b[0m eta \u001b[36m0:00:00\u001b[0m\n",
      "\u001b[?25hRequirement already satisfied: filelock in /usr/local/lib/python3.10/dist-packages (from datasets) (3.13.1)\n",
      "Requirement already satisfied: numpy>=1.17 in /usr/local/lib/python3.10/dist-packages (from datasets) (1.25.2)\n",
      "Requirement already satisfied: pyarrow>=12.0.0 in /usr/local/lib/python3.10/dist-packages (from datasets) (14.0.2)\n",
      "Requirement already satisfied: pyarrow-hotfix in /usr/local/lib/python3.10/dist-packages (from datasets) (0.6)\n",
      "Collecting dill<0.3.9,>=0.3.0 (from datasets)\n",
      "  Downloading dill-0.3.8-py3-none-any.whl (116 kB)\n",
      "\u001b[2K     \u001b[90m━━━━━━━━━━━━━━━━━━━━━━━━━━━━━━━━━━━━━━━━\u001b[0m \u001b[32m116.3/116.3 kB\u001b[0m \u001b[31m14.6 MB/s\u001b[0m eta \u001b[36m0:00:00\u001b[0m\n",
      "\u001b[?25hRequirement already satisfied: pandas in /usr/local/lib/python3.10/dist-packages (from datasets) (1.5.3)\n",
      "Requirement already satisfied: requests>=2.19.0 in /usr/local/lib/python3.10/dist-packages (from datasets) (2.31.0)\n",
      "Requirement already satisfied: tqdm>=4.62.1 in /usr/local/lib/python3.10/dist-packages (from datasets) (4.66.2)\n",
      "Collecting xxhash (from datasets)\n",
      "  Downloading xxhash-3.4.1-cp310-cp310-manylinux_2_17_x86_64.manylinux2014_x86_64.whl (194 kB)\n",
      "\u001b[2K     \u001b[90m━━━━━━━━━━━━━━━━━━━━━━━━━━━━━━━━━━━━━━━━\u001b[0m \u001b[32m194.1/194.1 kB\u001b[0m \u001b[31m23.6 MB/s\u001b[0m eta \u001b[36m0:00:00\u001b[0m\n",
      "\u001b[?25hCollecting multiprocess (from datasets)\n",
      "  Downloading multiprocess-0.70.16-py310-none-any.whl (134 kB)\n",
      "\u001b[2K     \u001b[90m━━━━━━━━━━━━━━━━━━━━━━━━━━━━━━━━━━━━━━━━\u001b[0m \u001b[32m134.8/134.8 kB\u001b[0m \u001b[31m11.5 MB/s\u001b[0m eta \u001b[36m0:00:00\u001b[0m\n",
      "\u001b[?25hRequirement already satisfied: fsspec[http]<=2024.2.0,>=2023.1.0 in /usr/local/lib/python3.10/dist-packages (from datasets) (2023.6.0)\n",
      "Requirement already satisfied: aiohttp in /usr/local/lib/python3.10/dist-packages (from datasets) (3.9.3)\n",
      "Requirement already satisfied: huggingface-hub>=0.19.4 in /usr/local/lib/python3.10/dist-packages (from datasets) (0.20.3)\n",
      "Requirement already satisfied: packaging in /usr/local/lib/python3.10/dist-packages (from datasets) (24.0)\n",
      "Requirement already satisfied: pyyaml>=5.1 in /usr/local/lib/python3.10/dist-packages (from datasets) (6.0.1)\n",
      "Requirement already satisfied: aiosignal>=1.1.2 in /usr/local/lib/python3.10/dist-packages (from aiohttp->datasets) (1.3.1)\n",
      "Requirement already satisfied: attrs>=17.3.0 in /usr/local/lib/python3.10/dist-packages (from aiohttp->datasets) (23.2.0)\n",
      "Requirement already satisfied: frozenlist>=1.1.1 in /usr/local/lib/python3.10/dist-packages (from aiohttp->datasets) (1.4.1)\n",
      "Requirement already satisfied: multidict<7.0,>=4.5 in /usr/local/lib/python3.10/dist-packages (from aiohttp->datasets) (6.0.5)\n",
      "Requirement already satisfied: yarl<2.0,>=1.0 in /usr/local/lib/python3.10/dist-packages (from aiohttp->datasets) (1.9.4)\n",
      "Requirement already satisfied: async-timeout<5.0,>=4.0 in /usr/local/lib/python3.10/dist-packages (from aiohttp->datasets) (4.0.3)\n",
      "Requirement already satisfied: typing-extensions>=3.7.4.3 in /usr/local/lib/python3.10/dist-packages (from huggingface-hub>=0.19.4->datasets) (4.10.0)\n",
      "Requirement already satisfied: charset-normalizer<4,>=2 in /usr/local/lib/python3.10/dist-packages (from requests>=2.19.0->datasets) (3.3.2)\n",
      "Requirement already satisfied: idna<4,>=2.5 in /usr/local/lib/python3.10/dist-packages (from requests>=2.19.0->datasets) (3.6)\n",
      "Requirement already satisfied: urllib3<3,>=1.21.1 in /usr/local/lib/python3.10/dist-packages (from requests>=2.19.0->datasets) (2.0.7)\n",
      "Requirement already satisfied: certifi>=2017.4.17 in /usr/local/lib/python3.10/dist-packages (from requests>=2.19.0->datasets) (2024.2.2)\n",
      "Requirement already satisfied: python-dateutil>=2.8.1 in /usr/local/lib/python3.10/dist-packages (from pandas->datasets) (2.8.2)\n",
      "Requirement already satisfied: pytz>=2020.1 in /usr/local/lib/python3.10/dist-packages (from pandas->datasets) (2023.4)\n",
      "Requirement already satisfied: six>=1.5 in /usr/local/lib/python3.10/dist-packages (from python-dateutil>=2.8.1->pandas->datasets) (1.16.0)\n",
      "Installing collected packages: xxhash, dill, multiprocess, datasets\n",
      "Successfully installed datasets-2.18.0 dill-0.3.8 multiprocess-0.70.16 xxhash-3.4.1\n"
     ]
    }
   ],
   "source": [
    "!pip install datasets"
   ]
  },
  {
   "cell_type": "code",
   "execution_count": null,
   "metadata": {
    "id": "ySzqF1qWnQ6x"
   },
   "outputs": [],
   "source": [
    "from datasets import load_dataset"
   ]
  },
  {
   "cell_type": "code",
   "execution_count": null,
   "metadata": {
    "colab": {
     "base_uri": "https://localhost:8080/",
     "height": 49,
     "referenced_widgets": [
      "3cf26a5c142d44b397a9123c255741b4",
      "80348ea509c44437aaef9e9219dd3350",
      "06b579359ef84329b0a5b1ec61090509",
      "44bd6156de5a4af399d82471bfb366bd",
      "fa9e5b4516384bf8839377ba48c3d979",
      "ec67e8e4d274426b96e0f21c1dca0bc6",
      "0f5839c04b084f78b7e1b780d33a8752",
      "1af6881a9ef64778b6e2027863fab58d",
      "b4a8bf605abf4879901611b0ce9a8380",
      "18f3230c89644191a1bb9ea8e9169e0c",
      "c1a036f0366d44f3a88b83b435969582"
     ]
    },
    "id": "o_bHj8usnQ-N",
    "outputId": "a8b3ebd5-7da0-462f-98cb-de93dbaae183"
   },
   "outputs": [
    {
     "data": {
      "application/vnd.jupyter.widget-view+json": {
       "model_id": "3cf26a5c142d44b397a9123c255741b4",
       "version_major": 2,
       "version_minor": 0
      },
      "text/plain": [
       "Generating train split: 0 examples [00:00, ? examples/s]"
      ]
     },
     "metadata": {},
     "output_type": "display_data"
    }
   ],
   "source": [
    "data = load_dataset('csv', data_files='complaint_dataset.csv')"
   ]
  },
  {
   "cell_type": "code",
   "execution_count": null,
   "metadata": {
    "id": "TFUHvpxpm_wx"
   },
   "outputs": [],
   "source": [
    "train_test = data['train'].train_test_split(test_size=0.2, seed=42)"
   ]
  },
  {
   "cell_type": "code",
   "execution_count": null,
   "metadata": {
    "colab": {
     "base_uri": "https://localhost:8080/"
    },
    "id": "Mdo_Qka-m_0b",
    "outputId": "af422070-4c5a-4995-c40e-a410da9db04b"
   },
   "outputs": [
    {
     "data": {
      "text/plain": [
       "Dataset({\n",
       "    features: ['label', 'text'],\n",
       "    num_rows: 1400\n",
       "})"
      ]
     },
     "execution_count": 24,
     "metadata": {},
     "output_type": "execute_result"
    }
   ],
   "source": [
    "train_test['test']"
   ]
  },
  {
   "cell_type": "markdown",
   "metadata": {
    "id": "S23oqJhfnsjT"
   },
   "source": [
    "##load fine tuned model"
   ]
  },
  {
   "cell_type": "code",
   "execution_count": null,
   "metadata": {
    "id": "qwev4ijSkvGN"
   },
   "outputs": [],
   "source": [
    "from transformers import pipeline, AutoTokenizer, AutoModelForSequenceClassification"
   ]
  },
  {
   "cell_type": "code",
   "execution_count": null,
   "metadata": {
    "id": "XOMeA9NWlpI3"
   },
   "outputs": [],
   "source": [
    "model_checkpoint = \"/content/drive/MyDrive/output_dir/checkpoint-1000\""
   ]
  },
  {
   "cell_type": "code",
   "execution_count": null,
   "metadata": {
    "id": "FARvW-RokvH6"
   },
   "outputs": [],
   "source": [
    "tokenizer = AutoTokenizer.from_pretrained(model_checkpoint)\n",
    "\n",
    "model = AutoModelForSequenceClassification.from_pretrained(model_checkpoint)"
   ]
  },
  {
   "cell_type": "code",
   "execution_count": null,
   "metadata": {
    "id": "bLp7vj7Zl2s9"
   },
   "outputs": [],
   "source": [
    "classifier = pipeline(\"text-classification\", model=model, tokenizer=tokenizer)"
   ]
  },
  {
   "cell_type": "code",
   "execution_count": null,
   "metadata": {
    "colab": {
     "base_uri": "https://localhost:8080/"
    },
    "id": "VeBeJXugl7b2",
    "outputId": "0077e554-3696-4dc9-e691-d73b68ca1bbf"
   },
   "outputs": [
    {
     "data": {
      "text/plain": [
       "['good day my name is   and i currently have a mortgage loan with citi mortgage in the city of  my property taxes were lower by  by the city of  documentation was sent over to citi mortgage and only to find out my mortgage will only be lower by  for the year i am current with my mortgage so i do not understand their calculation i called the company and they are lying about escrow differences i was told the same thing by citi staff last year when they raised my mortgage from  to  i really need your help to correct this matter because i know i will lose my home with citi mortgage scheme thank you']"
      ]
     },
     "execution_count": 26,
     "metadata": {},
     "output_type": "execute_result"
    }
   ],
   "source": [
    "train_test['test']['text'][:1]"
   ]
  },
  {
   "cell_type": "code",
   "execution_count": null,
   "metadata": {
    "colab": {
     "base_uri": "https://localhost:8080/"
    },
    "id": "KNERKdRQo5Oz",
    "outputId": "6641cc1e-823e-414b-db55-40ae976b57e3"
   },
   "outputs": [
    {
     "data": {
      "text/plain": [
       "[4]"
      ]
     },
     "execution_count": 29,
     "metadata": {},
     "output_type": "execute_result"
    }
   ],
   "source": [
    "train_test['test']['label'][:1]"
   ]
  },
  {
   "cell_type": "code",
   "execution_count": null,
   "metadata": {
    "id": "JKMH1Z44l7d1"
   },
   "outputs": [],
   "source": [
    "predz = classifier(train_test['test']['text'][:100], padding=True, truncation=True)"
   ]
  },
  {
   "cell_type": "code",
   "execution_count": null,
   "metadata": {
    "id": "EaO68V6-sVp7"
   },
   "outputs": [],
   "source": [
    "predz"
   ]
  },
  {
   "cell_type": "code",
   "execution_count": null,
   "metadata": {
    "id": "kVoVNZc3pZEx"
   },
   "outputs": [],
   "source": [
    "y_pred = [int(label['label'][-1]) for label in predz]"
   ]
  },
  {
   "cell_type": "code",
   "execution_count": null,
   "metadata": {
    "id": "ECRZG_e2pjiV"
   },
   "outputs": [],
   "source": [
    "y_pred"
   ]
  },
  {
   "cell_type": "code",
   "execution_count": null,
   "metadata": {
    "id": "xcZXIL7TpAIX"
   },
   "outputs": [],
   "source": [
    "for label in predz:\n",
    "  print(int(label['label'][-1]))"
   ]
  },
  {
   "cell_type": "code",
   "execution_count": null,
   "metadata": {
    "id": "YdCQJW9Xow7E"
   },
   "outputs": [],
   "source": [
    "predz"
   ]
  },
  {
   "cell_type": "code",
   "execution_count": null,
   "metadata": {
    "id": "4dp2g9nWpl_K"
   },
   "outputs": [],
   "source": [
    "y_actual = train_test['test']['label'][:100]"
   ]
  },
  {
   "cell_type": "code",
   "execution_count": null,
   "metadata": {
    "id": "m7NS8dy2l7hF"
   },
   "outputs": [],
   "source": [
    "from sklearn.metrics import accuracy_score, f1_score"
   ]
  },
  {
   "cell_type": "code",
   "execution_count": null,
   "metadata": {
    "colab": {
     "base_uri": "https://localhost:8080/"
    },
    "id": "NMZPCu_8ockt",
    "outputId": "b308694a-84d2-497a-c0b7-bbdef6d47ba3"
   },
   "outputs": [
    {
     "data": {
      "text/plain": [
       "0.8"
      ]
     },
     "execution_count": 38,
     "metadata": {},
     "output_type": "execute_result"
    }
   ],
   "source": [
    "accuracy_score(y_actual, y_pred)"
   ]
  },
  {
   "cell_type": "code",
   "execution_count": null,
   "metadata": {
    "colab": {
     "base_uri": "https://localhost:8080/"
    },
    "id": "rrLFW8H9ocm4",
    "outputId": "700a28f4-c509-4dde-df64-11d1cd4b01a0"
   },
   "outputs": [
    {
     "data": {
      "text/plain": [
       "0.802880645238878"
      ]
     },
     "execution_count": 40,
     "metadata": {},
     "output_type": "execute_result"
    }
   ],
   "source": [
    "f1_score(y_actual, y_pred, average='macro')"
   ]
  },
  {
   "cell_type": "code",
   "execution_count": null,
   "metadata": {
    "id": "Eb5qATxnocqT"
   },
   "outputs": [],
   "source": [
    "## Business impact"
   ]
  },
  {
   "cell_type": "code",
   "execution_count": null,
   "metadata": {
    "colab": {
     "base_uri": "https://localhost:8080/"
    },
    "id": "_DH-k9l_tTBt",
    "outputId": "4b1900a6-a71b-493d-8dd5-9da821e4cacd"
   },
   "outputs": [
    {
     "data": {
      "text/plain": [
       "[4]"
      ]
     },
     "execution_count": 42,
     "metadata": {},
     "output_type": "execute_result"
    }
   ],
   "source": [
    "train_test['test']['label'][:1]"
   ]
  },
  {
   "cell_type": "code",
   "execution_count": null,
   "metadata": {
    "colab": {
     "base_uri": "https://localhost:8080/"
    },
    "id": "ynyqcjqPoc6j",
    "outputId": "eef7e551-2210-4553-abff-1fdb21c37dd9"
   },
   "outputs": [
    {
     "data": {
      "text/plain": [
       "[{'label': 'LABEL_4', 'score': 0.9914877414703369}]"
      ]
     },
     "execution_count": 44,
     "metadata": {},
     "output_type": "execute_result"
    }
   ],
   "source": [
    "complaint = train_test['test']['text'][:1]\n",
    "\n",
    "prediction = classifier(complaint, padding=True, truncation=True)\n",
    "\n",
    "prediction"
   ]
  },
  {
   "cell_type": "code",
   "execution_count": null,
   "metadata": {
    "colab": {
     "base_uri": "https://localhost:8080/",
     "height": 35
    },
    "id": "EVb-BVQWtjmN",
    "outputId": "46b59cb8-90b3-427b-d83c-bbc455798f66"
   },
   "outputs": [
    {
     "data": {
      "application/vnd.google.colaboratory.intrinsic+json": {
       "type": "string"
      },
      "text/plain": [
       "'LABEL_4'"
      ]
     },
     "execution_count": 45,
     "metadata": {},
     "output_type": "execute_result"
    }
   ],
   "source": [
    "prediction[0]['label']"
   ]
  },
  {
   "cell_type": "code",
   "execution_count": null,
   "metadata": {
    "id": "23vqyA7JrJlq"
   },
   "outputs": [],
   "source": [
    "def get_receiver_email(prediction):\n",
    "  if prediction[0]['label'] == 'LABEL_0':\n",
    "    receiver_email = 'XXXXXXX@gmail.com'\n",
    "\n",
    "  elif prediction[0]['label'] == 'LABEL_1':\n",
    "    receiver_email = 'XXXXXXX@yahoo.com'\n",
    "\n",
    "  elif prediction[0]['label'] == 'LABEL_2':\n",
    "    receiver_email = 'XXXXXXX@gmail.com'\n",
    "\n",
    "  elif prediction[0]['label'] == 'LABEL_3':\n",
    "    receiver_email = 'XXXXXXX@gmail.com'\n",
    "\n",
    "  elif prediction[0]['label'] == 'LABEL_4':\n",
    "    receiver_email = 'XXXXXXX@gmail.com'\n",
    "\n",
    "  elif prediction[0]['label'] == 'LABEL_5':\n",
    "    receiver_email = 'XXXXXXX@gmail.com'\n",
    "\n",
    "  elif prediction[0]['label'] == 'LABEL_6':\n",
    "    receiver_email = 'XXXXXXX@gmail.com'\n",
    "\n",
    "  return receiver_email"
   ]
  },
  {
   "cell_type": "code",
   "execution_count": null,
   "metadata": {
    "id": "3cAuSrn2tJ_H"
   },
   "outputs": [],
   "source": []
  },
  {
   "cell_type": "markdown",
   "metadata": {
    "id": "Aqh9CVHWrKKl"
   },
   "source": [
    "##Sending Mail"
   ]
  },
  {
   "cell_type": "code",
   "execution_count": null,
   "metadata": {
    "id": "YZL2aYQcudVN"
   },
   "outputs": [],
   "source": [
    "from google.colab import userdata\n",
    "\n",
    "sender_password = userdata.get('EMAIL_PASSWORD')"
   ]
  },
  {
   "cell_type": "code",
   "execution_count": null,
   "metadata": {
    "id": "3RRfui5yq39W"
   },
   "outputs": [],
   "source": [
    "import smtplib, ssl\n",
    "\n",
    "\n",
    "def send_mail(receiver_email, message):\n",
    "  port = 465\n",
    "  smtp_server = 'smtp.gmail.com'\n",
    "\n",
    "  sender_email = 'ugaledatta41@gmail.com'\n",
    "\n",
    "  # receiver_email =\n",
    "\n",
    "  # sender_password = ''\n",
    "  # message = 'this mail send from python'\n",
    "\n",
    "  context = ssl.create_default_context()\n",
    "\n",
    "  server = smtplib.SMTP_SSL(smtp_server, port)\n",
    "\n",
    "  server.login(sender_email, sender_password)\n",
    "\n",
    "  server.sendmail(sender_email, receiver_email, message)\n",
    "\n",
    "  print('mail sent')"
   ]
  },
  {
   "cell_type": "code",
   "execution_count": null,
   "metadata": {},
   "outputs": [],
   "source": [
    "def forward_complaint(complaint):\n",
    "  prediction = classifier(complaint, padding=True, truncation=True)\n",
    "  print(prediction)\n",
    "\n",
    "  receiver_email = get_receiver_email(prediction)\n",
    "  print(receiver_email)\n",
    "  # server.sendmail(sender_email, receiver_email, complaint[0])\n",
    "  send_mail(receiver_email, complaint[0])\n",
    "\n",
    "  return {\"message\" : \"complaint forwarded\"}\n",
    "\n",
    "\n",
    "\n",
    "complaint = train_test['test']['text'][100:101]\n",
    "\n",
    "forward_complaint(complaint)"
   ]
  },
  {
   "cell_type": "code",
   "execution_count": null,
   "metadata": {
    "id": "ZoruhJKdwtan"
   },
   "outputs": [],
   "source": []
  },
  {
   "cell_type": "code",
   "execution_count": null,
   "metadata": {
    "id": "SPWBB9MdwthG"
   },
   "outputs": [],
   "source": []
  },
  {
   "cell_type": "code",
   "execution_count": null,
   "metadata": {
    "id": "9aHpXO-twBe8"
   },
   "outputs": [],
   "source": []
  }
 ],
 "metadata": {
  "colab": {
   "provenance": []
  },
  "kernelspec": {
   "display_name": "Python 3 (ipykernel)",
   "language": "python",
   "name": "python3"
  },
  "language_info": {
   "codemirror_mode": {
    "name": "ipython",
    "version": 3
   },
   "file_extension": ".py",
   "mimetype": "text/x-python",
   "name": "python",
   "nbconvert_exporter": "python",
   "pygments_lexer": "ipython3",
   "version": "3.11.4"
  },
  "widgets": {
   "application/vnd.jupyter.widget-state+json": {
    "06b579359ef84329b0a5b1ec61090509": {
     "model_module": "@jupyter-widgets/controls",
     "model_module_version": "1.5.0",
     "model_name": "FloatProgressModel",
     "state": {
      "_dom_classes": [],
      "_model_module": "@jupyter-widgets/controls",
      "_model_module_version": "1.5.0",
      "_model_name": "FloatProgressModel",
      "_view_count": null,
      "_view_module": "@jupyter-widgets/controls",
      "_view_module_version": "1.5.0",
      "_view_name": "ProgressView",
      "bar_style": "success",
      "description": "",
      "description_tooltip": null,
      "layout": "IPY_MODEL_1af6881a9ef64778b6e2027863fab58d",
      "max": 1,
      "min": 0,
      "orientation": "horizontal",
      "style": "IPY_MODEL_b4a8bf605abf4879901611b0ce9a8380",
      "value": 1
     }
    },
    "0f5839c04b084f78b7e1b780d33a8752": {
     "model_module": "@jupyter-widgets/controls",
     "model_module_version": "1.5.0",
     "model_name": "DescriptionStyleModel",
     "state": {
      "_model_module": "@jupyter-widgets/controls",
      "_model_module_version": "1.5.0",
      "_model_name": "DescriptionStyleModel",
      "_view_count": null,
      "_view_module": "@jupyter-widgets/base",
      "_view_module_version": "1.2.0",
      "_view_name": "StyleView",
      "description_width": ""
     }
    },
    "18f3230c89644191a1bb9ea8e9169e0c": {
     "model_module": "@jupyter-widgets/base",
     "model_module_version": "1.2.0",
     "model_name": "LayoutModel",
     "state": {
      "_model_module": "@jupyter-widgets/base",
      "_model_module_version": "1.2.0",
      "_model_name": "LayoutModel",
      "_view_count": null,
      "_view_module": "@jupyter-widgets/base",
      "_view_module_version": "1.2.0",
      "_view_name": "LayoutView",
      "align_content": null,
      "align_items": null,
      "align_self": null,
      "border": null,
      "bottom": null,
      "display": null,
      "flex": null,
      "flex_flow": null,
      "grid_area": null,
      "grid_auto_columns": null,
      "grid_auto_flow": null,
      "grid_auto_rows": null,
      "grid_column": null,
      "grid_gap": null,
      "grid_row": null,
      "grid_template_areas": null,
      "grid_template_columns": null,
      "grid_template_rows": null,
      "height": null,
      "justify_content": null,
      "justify_items": null,
      "left": null,
      "margin": null,
      "max_height": null,
      "max_width": null,
      "min_height": null,
      "min_width": null,
      "object_fit": null,
      "object_position": null,
      "order": null,
      "overflow": null,
      "overflow_x": null,
      "overflow_y": null,
      "padding": null,
      "right": null,
      "top": null,
      "visibility": null,
      "width": null
     }
    },
    "1af6881a9ef64778b6e2027863fab58d": {
     "model_module": "@jupyter-widgets/base",
     "model_module_version": "1.2.0",
     "model_name": "LayoutModel",
     "state": {
      "_model_module": "@jupyter-widgets/base",
      "_model_module_version": "1.2.0",
      "_model_name": "LayoutModel",
      "_view_count": null,
      "_view_module": "@jupyter-widgets/base",
      "_view_module_version": "1.2.0",
      "_view_name": "LayoutView",
      "align_content": null,
      "align_items": null,
      "align_self": null,
      "border": null,
      "bottom": null,
      "display": null,
      "flex": null,
      "flex_flow": null,
      "grid_area": null,
      "grid_auto_columns": null,
      "grid_auto_flow": null,
      "grid_auto_rows": null,
      "grid_column": null,
      "grid_gap": null,
      "grid_row": null,
      "grid_template_areas": null,
      "grid_template_columns": null,
      "grid_template_rows": null,
      "height": null,
      "justify_content": null,
      "justify_items": null,
      "left": null,
      "margin": null,
      "max_height": null,
      "max_width": null,
      "min_height": null,
      "min_width": null,
      "object_fit": null,
      "object_position": null,
      "order": null,
      "overflow": null,
      "overflow_x": null,
      "overflow_y": null,
      "padding": null,
      "right": null,
      "top": null,
      "visibility": null,
      "width": "20px"
     }
    },
    "3cf26a5c142d44b397a9123c255741b4": {
     "model_module": "@jupyter-widgets/controls",
     "model_module_version": "1.5.0",
     "model_name": "HBoxModel",
     "state": {
      "_dom_classes": [],
      "_model_module": "@jupyter-widgets/controls",
      "_model_module_version": "1.5.0",
      "_model_name": "HBoxModel",
      "_view_count": null,
      "_view_module": "@jupyter-widgets/controls",
      "_view_module_version": "1.5.0",
      "_view_name": "HBoxView",
      "box_style": "",
      "children": [
       "IPY_MODEL_80348ea509c44437aaef9e9219dd3350",
       "IPY_MODEL_06b579359ef84329b0a5b1ec61090509",
       "IPY_MODEL_44bd6156de5a4af399d82471bfb366bd"
      ],
      "layout": "IPY_MODEL_fa9e5b4516384bf8839377ba48c3d979"
     }
    },
    "44bd6156de5a4af399d82471bfb366bd": {
     "model_module": "@jupyter-widgets/controls",
     "model_module_version": "1.5.0",
     "model_name": "HTMLModel",
     "state": {
      "_dom_classes": [],
      "_model_module": "@jupyter-widgets/controls",
      "_model_module_version": "1.5.0",
      "_model_name": "HTMLModel",
      "_view_count": null,
      "_view_module": "@jupyter-widgets/controls",
      "_view_module_version": "1.5.0",
      "_view_name": "HTMLView",
      "description": "",
      "description_tooltip": null,
      "layout": "IPY_MODEL_18f3230c89644191a1bb9ea8e9169e0c",
      "placeholder": "​",
      "style": "IPY_MODEL_c1a036f0366d44f3a88b83b435969582",
      "value": " 7000/0 [00:00&lt;00:00, 30700.77 examples/s]"
     }
    },
    "80348ea509c44437aaef9e9219dd3350": {
     "model_module": "@jupyter-widgets/controls",
     "model_module_version": "1.5.0",
     "model_name": "HTMLModel",
     "state": {
      "_dom_classes": [],
      "_model_module": "@jupyter-widgets/controls",
      "_model_module_version": "1.5.0",
      "_model_name": "HTMLModel",
      "_view_count": null,
      "_view_module": "@jupyter-widgets/controls",
      "_view_module_version": "1.5.0",
      "_view_name": "HTMLView",
      "description": "",
      "description_tooltip": null,
      "layout": "IPY_MODEL_ec67e8e4d274426b96e0f21c1dca0bc6",
      "placeholder": "​",
      "style": "IPY_MODEL_0f5839c04b084f78b7e1b780d33a8752",
      "value": "Generating train split: "
     }
    },
    "b4a8bf605abf4879901611b0ce9a8380": {
     "model_module": "@jupyter-widgets/controls",
     "model_module_version": "1.5.0",
     "model_name": "ProgressStyleModel",
     "state": {
      "_model_module": "@jupyter-widgets/controls",
      "_model_module_version": "1.5.0",
      "_model_name": "ProgressStyleModel",
      "_view_count": null,
      "_view_module": "@jupyter-widgets/base",
      "_view_module_version": "1.2.0",
      "_view_name": "StyleView",
      "bar_color": null,
      "description_width": ""
     }
    },
    "c1a036f0366d44f3a88b83b435969582": {
     "model_module": "@jupyter-widgets/controls",
     "model_module_version": "1.5.0",
     "model_name": "DescriptionStyleModel",
     "state": {
      "_model_module": "@jupyter-widgets/controls",
      "_model_module_version": "1.5.0",
      "_model_name": "DescriptionStyleModel",
      "_view_count": null,
      "_view_module": "@jupyter-widgets/base",
      "_view_module_version": "1.2.0",
      "_view_name": "StyleView",
      "description_width": ""
     }
    },
    "ec67e8e4d274426b96e0f21c1dca0bc6": {
     "model_module": "@jupyter-widgets/base",
     "model_module_version": "1.2.0",
     "model_name": "LayoutModel",
     "state": {
      "_model_module": "@jupyter-widgets/base",
      "_model_module_version": "1.2.0",
      "_model_name": "LayoutModel",
      "_view_count": null,
      "_view_module": "@jupyter-widgets/base",
      "_view_module_version": "1.2.0",
      "_view_name": "LayoutView",
      "align_content": null,
      "align_items": null,
      "align_self": null,
      "border": null,
      "bottom": null,
      "display": null,
      "flex": null,
      "flex_flow": null,
      "grid_area": null,
      "grid_auto_columns": null,
      "grid_auto_flow": null,
      "grid_auto_rows": null,
      "grid_column": null,
      "grid_gap": null,
      "grid_row": null,
      "grid_template_areas": null,
      "grid_template_columns": null,
      "grid_template_rows": null,
      "height": null,
      "justify_content": null,
      "justify_items": null,
      "left": null,
      "margin": null,
      "max_height": null,
      "max_width": null,
      "min_height": null,
      "min_width": null,
      "object_fit": null,
      "object_position": null,
      "order": null,
      "overflow": null,
      "overflow_x": null,
      "overflow_y": null,
      "padding": null,
      "right": null,
      "top": null,
      "visibility": null,
      "width": null
     }
    },
    "fa9e5b4516384bf8839377ba48c3d979": {
     "model_module": "@jupyter-widgets/base",
     "model_module_version": "1.2.0",
     "model_name": "LayoutModel",
     "state": {
      "_model_module": "@jupyter-widgets/base",
      "_model_module_version": "1.2.0",
      "_model_name": "LayoutModel",
      "_view_count": null,
      "_view_module": "@jupyter-widgets/base",
      "_view_module_version": "1.2.0",
      "_view_name": "LayoutView",
      "align_content": null,
      "align_items": null,
      "align_self": null,
      "border": null,
      "bottom": null,
      "display": null,
      "flex": null,
      "flex_flow": null,
      "grid_area": null,
      "grid_auto_columns": null,
      "grid_auto_flow": null,
      "grid_auto_rows": null,
      "grid_column": null,
      "grid_gap": null,
      "grid_row": null,
      "grid_template_areas": null,
      "grid_template_columns": null,
      "grid_template_rows": null,
      "height": null,
      "justify_content": null,
      "justify_items": null,
      "left": null,
      "margin": null,
      "max_height": null,
      "max_width": null,
      "min_height": null,
      "min_width": null,
      "object_fit": null,
      "object_position": null,
      "order": null,
      "overflow": null,
      "overflow_x": null,
      "overflow_y": null,
      "padding": null,
      "right": null,
      "top": null,
      "visibility": null,
      "width": null
     }
    }
   }
  }
 },
 "nbformat": 4,
 "nbformat_minor": 4
}
